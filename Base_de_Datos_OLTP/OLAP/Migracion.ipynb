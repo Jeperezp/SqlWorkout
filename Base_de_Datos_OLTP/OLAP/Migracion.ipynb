{
 "cells": [
  {
   "cell_type": "markdown",
   "metadata": {},
   "source": [
    "# Migracion de Datos de OLTP a OLAP"
   ]
  },
  {
   "cell_type": "code",
   "execution_count": 1,
   "metadata": {},
   "outputs": [],
   "source": [
    "import pandas as pd\n",
    "from sqlalchemy import create_engine\n",
    "from sqlalchemy.exc import SQLAlchemyError\n",
    "import logging \n",
    "import json"
   ]
  },
  {
   "cell_type": "markdown",
   "metadata": {},
   "source": [
    "Lectura del Archivo  `config.json` el cual tiene las credenciales de ingreso a la Base de Datos"
   ]
  },
  {
   "cell_type": "code",
   "execution_count": 2,
   "metadata": {},
   "outputs": [],
   "source": [
    "with open ('Credenciales/config.json', 'r') as file:\n",
    "    config = json.load(file)"
   ]
  },
  {
   "cell_type": "markdown",
   "metadata": {},
   "source": [
    "Crea la configuracion del Archivo .log en el cual se registraran los puntos clave de nuestro ETL"
   ]
  },
  {
   "cell_type": "code",
   "execution_count": 3,
   "metadata": {},
   "outputs": [],
   "source": [
    "logging.basicConfig(\n",
    "    level=logging.INFO,   # Establecemos el nivel mínimo para que se capture INFO y superior\n",
    "    format='%(asctime)s - %(levelname)s - %(message)s',  # Formato de los logs\n",
    "    handlers=[\n",
    "        logging.StreamHandler(),  # Imprime en la consola\n",
    "        logging.FileHandler(\"Mig_Data_ETL.log\")  # Guarda los logs en un archivo 'app.log'\n",
    "    ]\n",
    ")"
   ]
  },
  {
   "cell_type": "markdown",
   "metadata": {},
   "source": [
    "La Funcion <span style=\"color:#FFEB99\">connect_db</span> Permite la ejecucion de consulas <span style=\"color:#98FF98\">SQL</span> para crear DataFrames"
   ]
  },
  {
   "cell_type": "code",
   "execution_count": 4,
   "metadata": {},
   "outputs": [],
   "source": [
    "engine = create_engine(f'mysql+pymysql://{config['Connection']['user']}:{config['Connection']['password']}@{config['Connection']['host']}:{config['Connection']['port']}/{config['Connection']['database']}')\n",
    "\n",
    "def connect_db(query: str) -> pd.DataFrame:\n",
    "    \"\"\"\n",
    "    Conecta a la base de datos, ejecuta una consulta y devuelve los resultados en un DataFrame de pandas.\n",
    "    \n",
    "    Parameters:\n",
    "    query (str): La consulta SQL que se ejecutará en la base de datos.\n",
    "    \n",
    "    Returns:\n",
    "    pd.DataFrame: El resultado de la consulta en formato de DataFrame.\n",
    "    \"\"\"\n",
    "    try:\n",
    "        # Establece la conexión con el motor de base de datos\n",
    "        with engine.connect() as conn:\n",
    "            # Ejecuta la consulta SQL y guarda el resultado en un DataFrame\n",
    "            df = pd.read_sql_query(query, conn)\n",
    "            logging.info('Datos Cargados')\n",
    "        return df\n",
    "\n",
    "    except SQLAlchemyError as e:\n",
    "        # Captura excepciones específicas de SQLAlchemy\n",
    "        logging.error(f\"Error en la consulta: {e}\")\n",
    "        return pd.DataFrame()  # Devuelve un DataFrame vacío en caso de error"
   ]
  },
  {
   "cell_type": "markdown",
   "metadata": {},
   "source": [
    "La Funcion <span style=\"color:#FFEB99\">insert_data_to_sql</span> Permite la insercion de datos a <span style=\"color:#98FF98\">SQL server</span>"
   ]
  },
  {
   "cell_type": "code",
   "execution_count": 5,
   "metadata": {},
   "outputs": [],
   "source": [
    "engine_SQL_Server = create_engine(f\"mssql+pyodbc://{config['Connection_SQL_Server']['username']}:{config['Connection_SQL_Server']['password']}@{config['Connection_SQL_Server']['server']}/{config['Connection_SQL_Server']['database']}?driver=ODBC Driver 17 for SQL Server\")\n",
    "\n",
    "# Función para insertar datos a una tabla usando Pandas to_sql\n",
    "def insert_data_to_sql(df: pd.DataFrame, table_name: str, if_exists: str = 'append'):\n",
    "    \"\"\"\n",
    "    Inserta los datos de un DataFrame en la tabla especificada de SQL Server.\n",
    "    \n",
    "    Args:\n",
    "        df (pd.DataFrame): El DataFrame con los datos a insertar.\n",
    "        table_name (str): El nombre de la tabla en SQL Server.\n",
    "        if_exists (str): Especifica qué hacer si la tabla ya existe. Puede ser 'replace', 'append' o 'fail'.\n",
    "    \n",
    "    Returns:\n",
    "        None\n",
    "    \"\"\"\n",
    "    try:\n",
    "        # Insertar los datos en la tabla especificada\n",
    "        df.to_sql(table_name, con=engine_SQL_Server, index=False, if_exists=if_exists)\n",
    "        logging.info(f\"Datos insertados correctamente en la tabla '{table_name}'.\")\n",
    "    \n",
    "    except Exception as e:\n",
    "        logging.error(f\"Error al insertar los datos en la tabla '{table_name}': {e}\")"
   ]
  },
  {
   "cell_type": "markdown",
   "metadata": {},
   "source": [
    "La Funcion <span style=\"color:#FFEB99\">duplicates_Pk</span> verifica que no existan duplicados en una llave primaria "
   ]
  },
  {
   "cell_type": "code",
   "execution_count": 6,
   "metadata": {},
   "outputs": [],
   "source": [
    "def duplicates_Pk(df: pd.DataFrame, campo: str) -> pd.DataFrame:\n",
    "    \"\"\"\n",
    "    Verifica si existen duplicados en la columna especificada de un DataFrame.\n",
    "    \n",
    "    Args:\n",
    "        df (pd.DataFrame): El DataFrame en el que se verificarán los duplicados.\n",
    "        campo (str): El nombre de la columna en la que se verificarán los duplicados.\n",
    "    \n",
    "    Raises:\n",
    "        ValueError: Si se encuentran duplicados en la columna especificada, se lanza una excepción.\n",
    "    \n",
    "    Returns:\n",
    "        pd.DataFrame: El DataFrame original si no se encuentran duplicados en la columna especificada.\n",
    "    \"\"\"\n",
    "    # Verificar si existen duplicados en la columna especificada\n",
    "    if df[campo].duplicated().any():\n",
    "        # Mostrar los duplicados encontrados\n",
    "        duplicates = df[df[campo].duplicated()]\n",
    "        logging.error(f'Duplicados encontrados en la columna \"{campo}\":\\n{duplicates}')\n",
    "        \n",
    "        # Lanzar excepción en lugar de finalizar el script\n",
    "        raise ValueError(f'Duplicados en la columna \"{campo}\" del DataFrame.')\n",
    "    \n",
    "    # Caso exitoso si no se encuentran duplicados\n",
    "    logging.info(f'No se encontraron duplicados en la columna \"{campo}\".')\n",
    "    \n",
    "    return df"
   ]
  },
  {
   "cell_type": "markdown",
   "metadata": {},
   "source": [
    "La Funcion <span style=\"color:#FFEB99\">Faltantes</span> verifica que no existan Faltantes en las tablas de dimensioens "
   ]
  },
  {
   "cell_type": "code",
   "execution_count": 7,
   "metadata": {},
   "outputs": [],
   "source": [
    "\n",
    "def Faltantes(df: pd.DataFrame, campos: list) -> pd.DataFrame:\n",
    "    \"\"\"\n",
    "    Verifica si existen valores faltantes (NaN) en las columnas especificadas de un DataFrame.\n",
    "    \n",
    "    Args:\n",
    "        df (pd.DataFrame): El DataFrame en el que se verificarán los valores faltantes.\n",
    "        campos (list): Lista de nombres de las columnas a verificar.\n",
    "    \n",
    "    Raises:\n",
    "        ValueError: Si se encuentran valores faltantes en alguna de las columnas especificadas.\n",
    "    \n",
    "    Returns:\n",
    "        pd.DataFrame: El DataFrame original si no se encuentran valores faltantes en las columnas especificadas.\n",
    "    \"\"\"\n",
    "    # Verificar si hay valores faltantes en las columnas especificadas\n",
    "    faltantes = df[campos].isnull().sum()\n",
    "    \n",
    "    # Filtrar las columnas con valores faltantes\n",
    "    columnas_faltantes = faltantes[faltantes > 0].index.tolist()\n",
    "    \n",
    "    if columnas_faltantes:\n",
    "        logging.error(f'El DataFrame presenta valores faltantes en las siguientes columnas: {\", \".join(columnas_faltantes)}')\n",
    "        \n",
    "        # Lanzar excepción con información adicional sobre las columnas faltantes\n",
    "        raise ValueError(f\"Valores faltantes en las columnas: {', '.join(columnas_faltantes)}\")\n",
    "    logging.info(f'No se encontraron valores faltantes en las columnas especificadas: {\", \".join(campos)}')\n",
    "    return df\n"
   ]
  },
  {
   "cell_type": "markdown",
   "metadata": {},
   "source": [
    "La Funcion <span style=\"color:#FFEB99\">relaciones</span> valida que las llaves foraneas existan en las llaves primaras de dimensiones "
   ]
  },
  {
   "cell_type": "code",
   "execution_count": 8,
   "metadata": {},
   "outputs": [],
   "source": [
    "def relaciones(df1: pd.DataFrame, key: str, df2: pd.DataFrame, foreing_key: str) -> pd.DataFrame:\n",
    "    \"\"\"\n",
    "    Verifica que los valores en la columna `foreing_key` del DataFrame `df2` existan en la columna `key` del DataFrame `df1`.\n",
    "    \n",
    "    Args:\n",
    "        df1 (pd.DataFrame): Primer DataFrame que contiene la clave primaria.\n",
    "        key (str): Nombre de la columna en `df1` que contiene las claves primarias.\n",
    "        df2 (pd.DataFrame): Segundo DataFrame que contiene la clave foránea.\n",
    "        foreing_key (str): Nombre de la columna en `df2` que contiene las claves foráneas.\n",
    "    \n",
    "    Raises:\n",
    "        ValueError: Si hay valores en `foreing_key` que no existen en `key` de `df1`.\n",
    "    \n",
    "    Returns:\n",
    "        pd.DataFrame: El DataFrame `df2` si todas las claves foráneas son válidas.\n",
    "    \"\"\"\n",
    "    # Obtener las claves primarias únicas del df1\n",
    "    claves_primarias = df1[key].unique()\n",
    "\n",
    "    # Verificar si todas las claves foráneas en df2 están en las claves primarias de df1\n",
    "    if not df2[foreing_key].isin(claves_primarias).all():\n",
    "        # Encontrar las claves foráneas que no existen en df1\n",
    "        claves_inexistentes = df2[~df2[foreing_key].isin(claves_primarias)][foreing_key].unique()\n",
    "        logging.error(f'Existen claves foráneas en {foreing_key} que no están presentes en la columna {key} de {df1}.')\n",
    "        logging.error(f'Las claves foráneas inexistentes son: {\", \".join(map(str, claves_inexistentes))}')\n",
    "        \n",
    "        # Lanzar una excepción con más información\n",
    "        raise ValueError(f\"Claves foráneas no válidas: {', '.join(map(str, claves_inexistentes))}\")\n",
    "    \n",
    "    # Si todas las claves foráneas son válidas, registrar el caso exitoso\n",
    "    logging.info(f'Todas las claves foráneas en {foreing_key} están presentes en {key} de {df1}. Verificación exitosa.')\n",
    "\n",
    "    return df2"
   ]
  },
  {
   "cell_type": "markdown",
   "metadata": {},
   "source": [
    "Consulta de Tablas Dimensiones del Modelo OLTP"
   ]
  },
  {
   "cell_type": "code",
   "execution_count": 9,
   "metadata": {},
   "outputs": [
    {
     "name": "stderr",
     "output_type": "stream",
     "text": [
      "2024-12-16 11:21:08,233 - INFO - Datos Cargados\n",
      "2024-12-16 11:21:08,243 - INFO - Datos Cargados\n",
      "2024-12-16 11:21:08,253 - INFO - Datos Cargados\n",
      "2024-12-16 11:21:08,263 - INFO - Datos Cargados\n",
      "2024-12-16 11:21:08,271 - INFO - Datos Cargados\n",
      "2024-12-16 11:21:08,281 - INFO - Datos Cargados\n"
     ]
    }
   ],
   "source": [
    "DimCiudad = connect_db(\"Select * From Cities\")\n",
    "DimCategoria= connect_db(\"Select * From Category\")\n",
    "DimDepartamento = connect_db(\"Select * From departments\")\n",
    "DimUsuario = connect_db(\"Select * From users\")\n",
    "DimEstado = connect_db('Select * From status')\n",
    "DimProcess = connect_db('Select * From process')"
   ]
  },
  {
   "cell_type": "markdown",
   "metadata": {},
   "source": [
    "![Diagrama de la base de datos OLTP](https://github.com/Jeperezp/SqlWorkout/blob/main/Base_de_Datos_OLTP/OLAP/Diagrama_OLAP.PNG)"
   ]
  },
  {
   "cell_type": "code",
   "execution_count": 10,
   "metadata": {},
   "outputs": [
    {
     "name": "stderr",
     "output_type": "stream",
     "text": [
      "2024-12-16 11:21:08,344 - INFO - No se encontraron duplicados en la columna \"id_city\".\n",
      "2024-12-16 11:21:08,353 - INFO - No se encontraron duplicados en la columna \"id_category\".\n",
      "2024-12-16 11:21:08,353 - INFO - No se encontraron duplicados en la columna \"category_name\".\n",
      "2024-12-16 11:21:08,353 - INFO - No se encontraron duplicados en la columna \"id_department\".\n",
      "2024-12-16 11:21:08,353 - INFO - No se encontraron duplicados en la columna \"Number_document\".\n",
      "2024-12-16 11:21:08,353 - INFO - No se encontraron duplicados en la columna \"id_user\".\n",
      "2024-12-16 11:21:08,363 - INFO - No se encontraron duplicados en la columna \"status_name\".\n",
      "2024-12-16 11:21:08,363 - INFO - No se encontraron duplicados en la columna \"id_status\".\n",
      "2024-12-16 11:21:08,369 - INFO - No se encontraron duplicados en la columna \"id_process\".\n"
     ]
    }
   ],
   "source": [
    "DimCiudad = duplicates_Pk(DimCiudad,'id_city')\n",
    "DimCategoria = duplicates_Pk(DimCategoria,'id_category')\n",
    "DimCategoria = duplicates_Pk(DimCategoria,'category_name')\n",
    "DimDepartamento = duplicates_Pk(DimDepartamento,'id_department')\n",
    "DimUsuario = duplicates_Pk(DimUsuario,'Number_document')\n",
    "DimUsuario = duplicates_Pk(DimUsuario,'id_user')\n",
    "DimEstado = duplicates_Pk(DimEstado,'status_name')\n",
    "DimEstado = duplicates_Pk(DimEstado,'id_status')\n",
    "DimProcess = duplicates_Pk(DimProcess,'id_process')"
   ]
  },
  {
   "cell_type": "code",
   "execution_count": 11,
   "metadata": {},
   "outputs": [
    {
     "name": "stderr",
     "output_type": "stream",
     "text": [
      "2024-12-16 11:21:08,391 - INFO - No se encontraron valores faltantes en las columnas especificadas: id_city, city_name, id_department\n",
      "2024-12-16 11:21:08,395 - INFO - No se encontraron valores faltantes en las columnas especificadas: id_category, category_name, category_description\n",
      "2024-12-16 11:21:08,399 - INFO - No se encontraron valores faltantes en las columnas especificadas: id_department, department_name\n",
      "2024-12-16 11:21:08,402 - INFO - No se encontraron valores faltantes en las columnas especificadas: id_user, Number_document, First_Name, last_Name, email, phone_number\n",
      "2024-12-16 11:21:08,402 - INFO - No se encontraron valores faltantes en las columnas especificadas: id_status, status_name, status_description\n",
      "2024-12-16 11:21:08,402 - INFO - No se encontraron valores faltantes en las columnas especificadas: id_process, date_entry, internal_id, id_user, id_category, id_status, id_user_rol, id_department, id_city\n"
     ]
    }
   ],
   "source": [
    "DimCiudad = Faltantes(DimCiudad, DimCiudad.columns)\n",
    "DimCategoria= Faltantes(DimCategoria, DimCategoria.columns)\n",
    "DimDepartamento = Faltantes(DimDepartamento, DimDepartamento.columns)\n",
    "DimUsuario = Faltantes(DimUsuario, DimUsuario.columns)\n",
    "DimEstado = Faltantes(DimEstado, DimEstado.columns)\n",
    "DimProcess = Faltantes(DimProcess, DimProcess.columns)"
   ]
  },
  {
   "cell_type": "code",
   "execution_count": 12,
   "metadata": {},
   "outputs": [
    {
     "name": "stderr",
     "output_type": "stream",
     "text": [
      "2024-12-16 11:21:08,443 - INFO - Todas las claves foráneas en id_status están presentes en id_status de    id_status status_name  status_description\n",
      "0        100         Vig           Vigente\\r\n",
      "1        200        Susp        Suspendido\\r\n",
      "2        300         Fin        Finalizado\\r\n",
      "3        400         Ven           Vencido\\r\n",
      "4        500     Fin_Ven  Finalizado Vencido. Verificación exitosa.\n",
      "2024-12-16 11:21:08,443 - INFO - Todas las claves foráneas en id_category están presentes en id_category de    id_category category_name category_description\n",
      "0            1   Hipotecario    Ley de vivienda\\r\n",
      "1            2       Consumo    Credito Consumo\\r\n",
      "2            3       Leasing    Ley de vivienda\\r\n",
      "3            4      Libranza     Credito Libranza. Verificación exitosa.\n"
     ]
    }
   ],
   "source": [
    "DimProcess = relaciones(DimEstado,'id_status',DimProcess,'id_status')\n",
    "DimProcess = relaciones(DimCategoria,'id_category',DimProcess,'id_category')"
   ]
  },
  {
   "cell_type": "code",
   "execution_count": 13,
   "metadata": {},
   "outputs": [
    {
     "name": "stderr",
     "output_type": "stream",
     "text": [
      "2024-12-16 11:21:08,474 - INFO - No se encontraron valores faltantes en las columnas especificadas: id_city, city_name, id_department\n",
      "2024-12-16 11:21:08,479 - INFO - No se encontraron valores faltantes en las columnas especificadas: id_category, category_name, category_description\n",
      "2024-12-16 11:21:08,482 - INFO - No se encontraron valores faltantes en las columnas especificadas: id_department, department_name\n",
      "2024-12-16 11:21:08,486 - INFO - No se encontraron valores faltantes en las columnas especificadas: id_user, Number_document, First_Name, last_Name, email, phone_number\n",
      "2024-12-16 11:21:08,490 - INFO - No se encontraron valores faltantes en las columnas especificadas: id_status, status_name, status_description\n",
      "2024-12-16 11:21:08,490 - INFO - No se encontraron valores faltantes en las columnas especificadas: id_process, date_entry, internal_id, id_user, id_category, id_status, id_user_rol, id_department, id_city\n"
     ]
    }
   ],
   "source": [
    "DimCiudad = Faltantes(DimCiudad, DimCiudad.columns)\n",
    "DimCategoria= Faltantes(DimCategoria, DimCategoria.columns)\n",
    "DimDepartamento = Faltantes(DimDepartamento, DimDepartamento.columns)\n",
    "DimUsuario = Faltantes(DimUsuario, DimUsuario.columns)\n",
    "DimEstado = Faltantes(DimEstado, DimEstado.columns)\n",
    "DimProcess = Faltantes(DimProcess, DimProcess.columns)"
   ]
  },
  {
   "cell_type": "code",
   "execution_count": 14,
   "metadata": {},
   "outputs": [],
   "source": [
    "DimUsuario = DimUsuario[['id_user','First_Name','last_Name','email','phone_number']]\n",
    "DimProcess = DimProcess[['id_process','internal_id','date_entry','id_category','id_status']]"
   ]
  },
  {
   "cell_type": "code",
   "execution_count": 15,
   "metadata": {},
   "outputs": [
    {
     "name": "stderr",
     "output_type": "stream",
     "text": [
      "2024-12-16 11:21:09,217 - INFO - Datos insertados correctamente en la tabla 'DimUsuario'.\n",
      "2024-12-16 11:21:09,221 - INFO - Datos insertados correctamente en la tabla 'DimDepartamento'.\n",
      "2024-12-16 11:21:09,630 - INFO - Datos insertados correctamente en la tabla 'DimCiudad'.\n",
      "2024-12-16 11:21:09,645 - INFO - Datos insertados correctamente en la tabla 'DimCategoria'.\n",
      "2024-12-16 11:21:09,664 - INFO - Datos insertados correctamente en la tabla 'DimEstado'.\n",
      "2024-12-16 11:21:09,707 - INFO - Datos insertados correctamente en la tabla 'DimProcess'.\n"
     ]
    }
   ],
   "source": [
    "insert_data_to_sql(DimUsuario,'DimUsuario')\n",
    "insert_data_to_sql(DimDepartamento,'DimDepartamento')\n",
    "insert_data_to_sql(DimCiudad,'DimCiudad')\n",
    "insert_data_to_sql(DimCategoria,'DimCategoria')\n",
    "insert_data_to_sql(DimEstado,'DimEstado')\n",
    "insert_data_to_sql(DimProcess,'DimProcess')"
   ]
  },
  {
   "cell_type": "code",
   "execution_count": 16,
   "metadata": {},
   "outputs": [],
   "source": [
    "Query_FacAudiences = \"\"\"\n",
    "Select \tp.id_process,\n",
    "        p.id_category,\n",
    "        p.id_status,\n",
    "        p.id_department,\n",
    "        p.id_city,\n",
    "        p.id_user,\n",
    "\t\ts.stage_name,\n",
    "        s.description,\n",
    "        ps.start_date,\n",
    "        ps.end_date,\n",
    "        TIMESTAMPDIFF(Day,ps.start_date,ps.end_date) as Duracion_Etapa,\n",
    "        ss.status_stage_name,\n",
    "        ss.status_stage_description,\n",
    "        r.Name\n",
    "from process_stage ps inner join stage s\n",
    "on ps.id_stage = s.id_stage\n",
    "inner join process p on ps.id_process = p.id_process\n",
    "inner join status_stage ss on ss.id_status_stage = ps.id_status_stage\n",
    "inner join rol r on r.id_rol = p.id_user_rol\n",
    "\"\"\""
   ]
  },
  {
   "cell_type": "code",
   "execution_count": 17,
   "metadata": {},
   "outputs": [
    {
     "name": "stderr",
     "output_type": "stream",
     "text": [
      "2024-12-16 11:21:10,256 - INFO - Datos Cargados\n"
     ]
    }
   ],
   "source": [
    "FactAudiences = connect_db(Query_FacAudiences)"
   ]
  },
  {
   "cell_type": "code",
   "execution_count": 18,
   "metadata": {},
   "outputs": [
    {
     "name": "stderr",
     "output_type": "stream",
     "text": [
      "2024-12-16 11:21:10,279 - INFO - Todas las claves foráneas en id_department están presentes en id_department de     id_department                                    department_name\n",
      "0               5                                        Antioquia\\r\n",
      "1               8                                        Atlántico\\r\n",
      "2              11                                      Bogotá D.C.\\r\n",
      "3              13                                          Bolívar\\r\n",
      "4              15                                           Boyacá\\r\n",
      "5              17                                           Caldas\\r\n",
      "6              18                                          Caquetá\\r\n",
      "7              19                                            Cauca\\r\n",
      "8              20                                            Cesar\\r\n",
      "9              23                                          Córdoba\\r\n",
      "10             25                                     Cundinamarca\\r\n",
      "11             27                                            Chocó\\r\n",
      "12             41                                            Huila\\r\n",
      "13             44                                       La Guajira\\r\n",
      "14             47                                        Magdalena\\r\n",
      "15             50                                             Meta\\r\n",
      "16             52                                           Nariño\\r\n",
      "17             54                               Norte de Santander\\r\n",
      "18             63                                          Quindío\\r\n",
      "19             66                                        Risaralda\\r\n",
      "20             68                                        Santander\\r\n",
      "21             70                                            Sucre\\r\n",
      "22             73                                           Tolima\\r\n",
      "23             76                                  Valle del Cauca\\r\n",
      "24             81                                           Arauca\\r\n",
      "25             85                                         Casanare\\r\n",
      "26             86                                         Putumayo\\r\n",
      "27             88  Archipiélago de San Andrés, Providencia y Sant...\n",
      "28             91                                         Amazonas\\r\n",
      "29             94                                          Guainía\\r\n",
      "30             95                                         Guaviare\\r\n",
      "31             97                                           Vaupés\\r\n",
      "32             99                                          Vichada\\r. Verificación exitosa.\n",
      "2024-12-16 11:21:10,288 - INFO - Todas las claves foráneas en id_city están presentes en id_city de       id_city        city_name  id_department\n",
      "0          54         La Unión              5\n",
      "1         133  Hatillo de Loba             13\n",
      "2         136        Río Viejo             13\n",
      "3         155           Oicatá             15\n",
      "4         156          Ráquira             15\n",
      "...       ...              ...            ...\n",
      "1112    97889         Yavaraté             97\n",
      "1113    99001   Puerto Carreño             99\n",
      "1114    99524     La Primavera             99\n",
      "1115    99624    Santa Rosalía             99\n",
      "1116    99773         Cumaribo             99\n",
      "\n",
      "[1117 rows x 3 columns]. Verificación exitosa.\n",
      "2024-12-16 11:21:10,291 - INFO - Todas las claves foráneas en id_user están presentes en id_user de    id_user First_Name    last_Name                               email  \\\n",
      "0        1       Syed        Abbas                     non@outlook.com   \n",
      "1        2  Catherine         Abel        dignissim.tempor@hotmail.com   \n",
      "2        3        Kim  Abercrombie               duis.risus@icloud.com   \n",
      "3        4      Hazem     Abolrous      faucibus.orci.luctus@yahoo.org   \n",
      "4        5        Sam     Abolrous  lacus.quisque.imperdiet@icloud.com   \n",
      "5        6   Humberto      Acevedo              mattis.velit@yahoo.com   \n",
      "6        7    Gustavo       Achong                  elit.a@hotmail.org   \n",
      "7        8      Pilar     Ackerman            sapien.gravida@yahoo.org   \n",
      "\n",
      "       phone_number  \n",
      "0  (610) 822-3228\\r  \n",
      "1  1-517-683-1323\\r  \n",
      "2  (905) 618-8731\\r  \n",
      "3  (691) 192-7357\\r  \n",
      "4  (893) 479-4676\\r  \n",
      "5  (571) 846-1724\\r  \n",
      "6  1-619-651-5455\\r  \n",
      "7    (243) 765-2174  . Verificación exitosa.\n"
     ]
    }
   ],
   "source": [
    "FactAudiences = relaciones(DimDepartamento,'id_department',FactAudiences,'id_department')\n",
    "FactAudiences = relaciones(DimCiudad,'id_city',FactAudiences,'id_city')\n",
    "FactAudiences = relaciones(DimUsuario,'id_user',FactAudiences,'id_user')"
   ]
  },
  {
   "cell_type": "code",
   "execution_count": 21,
   "metadata": {},
   "outputs": [
    {
     "data": {
      "text/html": [
       "<div>\n",
       "<style scoped>\n",
       "    .dataframe tbody tr th:only-of-type {\n",
       "        vertical-align: middle;\n",
       "    }\n",
       "\n",
       "    .dataframe tbody tr th {\n",
       "        vertical-align: top;\n",
       "    }\n",
       "\n",
       "    .dataframe thead th {\n",
       "        text-align: right;\n",
       "    }\n",
       "</style>\n",
       "<table border=\"1\" class=\"dataframe\">\n",
       "  <thead>\n",
       "    <tr style=\"text-align: right;\">\n",
       "      <th></th>\n",
       "      <th>id_process</th>\n",
       "      <th>id_category</th>\n",
       "      <th>id_status</th>\n",
       "      <th>id_department</th>\n",
       "      <th>id_city</th>\n",
       "      <th>id_user</th>\n",
       "      <th>stage_name</th>\n",
       "      <th>description</th>\n",
       "      <th>start_date</th>\n",
       "      <th>end_date</th>\n",
       "      <th>Duracion_Etapa</th>\n",
       "      <th>status_stage_name</th>\n",
       "      <th>status_stage_description</th>\n",
       "      <th>rol_name</th>\n",
       "    </tr>\n",
       "  </thead>\n",
       "  <tbody>\n",
       "    <tr>\n",
       "      <th>0</th>\n",
       "      <td>2022118662</td>\n",
       "      <td>4</td>\n",
       "      <td>500</td>\n",
       "      <td>11</td>\n",
       "      <td>11001</td>\n",
       "      <td>1</td>\n",
       "      <td>Enviado</td>\n",
       "      <td>Enviado al Juzgado\\r</td>\n",
       "      <td>2022-07-26</td>\n",
       "      <td>2022-07-27</td>\n",
       "      <td>1.0</td>\n",
       "      <td>Terminada</td>\n",
       "      <td>Actividad Finalizada</td>\n",
       "      <td>Supervisor</td>\n",
       "    </tr>\n",
       "    <tr>\n",
       "      <th>1</th>\n",
       "      <td>2022112391</td>\n",
       "      <td>2</td>\n",
       "      <td>500</td>\n",
       "      <td>11</td>\n",
       "      <td>11001</td>\n",
       "      <td>4</td>\n",
       "      <td>Enviado</td>\n",
       "      <td>Enviado al Juzgado\\r</td>\n",
       "      <td>2022-07-18</td>\n",
       "      <td>2022-07-19</td>\n",
       "      <td>1.0</td>\n",
       "      <td>Terminada</td>\n",
       "      <td>Actividad Finalizada</td>\n",
       "      <td>Supervisor</td>\n",
       "    </tr>\n",
       "    <tr>\n",
       "      <th>2</th>\n",
       "      <td>2022106489</td>\n",
       "      <td>2</td>\n",
       "      <td>500</td>\n",
       "      <td>5</td>\n",
       "      <td>5088</td>\n",
       "      <td>1</td>\n",
       "      <td>Enviado</td>\n",
       "      <td>Enviado al Juzgado\\r</td>\n",
       "      <td>2022-07-07</td>\n",
       "      <td>2022-07-08</td>\n",
       "      <td>1.0</td>\n",
       "      <td>Terminada</td>\n",
       "      <td>Actividad Finalizada</td>\n",
       "      <td>Supervisor</td>\n",
       "    </tr>\n",
       "    <tr>\n",
       "      <th>3</th>\n",
       "      <td>2022089733</td>\n",
       "      <td>3</td>\n",
       "      <td>500</td>\n",
       "      <td>5</td>\n",
       "      <td>5079</td>\n",
       "      <td>7</td>\n",
       "      <td>Enviado</td>\n",
       "      <td>Enviado al Juzgado\\r</td>\n",
       "      <td>2022-06-15</td>\n",
       "      <td>2022-06-16</td>\n",
       "      <td>1.0</td>\n",
       "      <td>Terminada</td>\n",
       "      <td>Actividad Finalizada</td>\n",
       "      <td>Supervisor</td>\n",
       "    </tr>\n",
       "    <tr>\n",
       "      <th>4</th>\n",
       "      <td>2022063641</td>\n",
       "      <td>1</td>\n",
       "      <td>500</td>\n",
       "      <td>11</td>\n",
       "      <td>11001</td>\n",
       "      <td>8</td>\n",
       "      <td>Enviado</td>\n",
       "      <td>Enviado al Juzgado\\r</td>\n",
       "      <td>2022-05-10</td>\n",
       "      <td>2022-05-11</td>\n",
       "      <td>1.0</td>\n",
       "      <td>Terminada</td>\n",
       "      <td>Actividad Finalizada</td>\n",
       "      <td>Supervisor</td>\n",
       "    </tr>\n",
       "  </tbody>\n",
       "</table>\n",
       "</div>"
      ],
      "text/plain": [
       "   id_process  id_category  id_status  id_department  id_city  id_user  \\\n",
       "0  2022118662            4        500             11    11001        1   \n",
       "1  2022112391            2        500             11    11001        4   \n",
       "2  2022106489            2        500              5     5088        1   \n",
       "3  2022089733            3        500              5     5079        7   \n",
       "4  2022063641            1        500             11    11001        8   \n",
       "\n",
       "  stage_name           description  start_date    end_date  Duracion_Etapa  \\\n",
       "0    Enviado  Enviado al Juzgado\\r  2022-07-26  2022-07-27             1.0   \n",
       "1    Enviado  Enviado al Juzgado\\r  2022-07-18  2022-07-19             1.0   \n",
       "2    Enviado  Enviado al Juzgado\\r  2022-07-07  2022-07-08             1.0   \n",
       "3    Enviado  Enviado al Juzgado\\r  2022-06-15  2022-06-16             1.0   \n",
       "4    Enviado  Enviado al Juzgado\\r  2022-05-10  2022-05-11             1.0   \n",
       "\n",
       "  status_stage_name status_stage_description    rol_name  \n",
       "0         Terminada     Actividad Finalizada  Supervisor  \n",
       "1         Terminada     Actividad Finalizada  Supervisor  \n",
       "2         Terminada     Actividad Finalizada  Supervisor  \n",
       "3         Terminada     Actividad Finalizada  Supervisor  \n",
       "4         Terminada     Actividad Finalizada  Supervisor  "
      ]
     },
     "execution_count": 21,
     "metadata": {},
     "output_type": "execute_result"
    }
   ],
   "source": [
    "FactAudiences.rename(columns={'Name':'rol_name'},inplace=True)"
   ]
  },
  {
   "cell_type": "code",
   "execution_count": 22,
   "metadata": {},
   "outputs": [
    {
     "name": "stderr",
     "output_type": "stream",
     "text": [
      "2024-12-16 11:26:03,881 - INFO - Datos insertados correctamente en la tabla 'FactAudiences'.\n"
     ]
    }
   ],
   "source": [
    "insert_data_to_sql(FactAudiences,'FactAudiences')"
   ]
  }
 ],
 "metadata": {
  "kernelspec": {
   "display_name": "Python 3",
   "language": "python",
   "name": "python3"
  },
  "language_info": {
   "codemirror_mode": {
    "name": "ipython",
    "version": 3
   },
   "file_extension": ".py",
   "mimetype": "text/x-python",
   "name": "python",
   "nbconvert_exporter": "python",
   "pygments_lexer": "ipython3",
   "version": "3.12.2"
  }
 },
 "nbformat": 4,
 "nbformat_minor": 2
}
